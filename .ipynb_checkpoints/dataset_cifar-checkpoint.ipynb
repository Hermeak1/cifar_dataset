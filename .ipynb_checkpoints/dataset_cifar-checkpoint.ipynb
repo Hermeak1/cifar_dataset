{
 "cells": [
  {
   "cell_type": "code",
   "id": "d5409b11-80b0-4fc1-82ac-47461f42ecc1",
   "metadata": {
    "jupyter": {
     "is_executing": true
    }
   },
   "source": [
    "import numpy as np\n",
    "import torch\n",
    "from torch.utils.data import Dataset\n",
    "from torchvision import datasets\n",
    "from torchvision.transforms import ToTensor\n",
    "import matplotlib.pyplot as plt\n",
    "import os"
   ],
   "outputs": [],
   "execution_count": null
  },
  {
   "cell_type": "code",
   "id": "8adeb05d-a160-4d67-9c32-2a9b55e48702",
   "metadata": {
    "jupyter": {
     "is_executing": true
    }
   },
   "source": [
    "# cache 폴더 생성\n",
    "os.makedirs(\"../.cache\", exist_ok=True)\n"
   ],
   "outputs": [],
   "execution_count": null
  },
  {
   "cell_type": "code",
   "id": "02ed2729-4d48-4101-9ddd-a553a3c7e45d",
   "metadata": {
    "jupyter": {
     "is_executing": true
    }
   },
   "source": [
    "# 데이터셋 불러오기\n",
    "training_data = datasets.CIFAR10(\n",
    "    root=\"../.cache\",\n",
    "    train=True,\n",
    "    download=True,\n",
    "    transform=ToTensor()\n",
    ")\n",
    "test_data = datasets.CIFAR10(\n",
    "    root=\"../.cache\",\n",
    "    train=False,\n",
    "    download=True,\n",
    "    transform=ToTensor\n",
    ")"
   ],
   "outputs": [],
   "execution_count": null
  },
  {
   "cell_type": "code",
   "id": "950a81af-e262-4790-9268-0dd311e2e3c9",
   "metadata": {
    "jupyter": {
     "is_executing": true
    }
   },
   "source": [
    "labels_map = {\n",
    "    0: \"plane\",\n",
    "    1: \"car\",\n",
    "    2: \"bird\",\n",
    "    3: \"cat\",\n",
    "    4: \"deer\",\n",
    "    5: \"dog\",\n",
    "    6: \"frog\",\n",
    "    7: \"horse\",\n",
    "    8: \"ship\",\n",
    "    9: \"truck\",\n",
    "}"
   ],
   "outputs": [],
   "execution_count": null
  },
  {
   "cell_type": "code",
   "id": "a33cd1cf-0019-4e5f-a4dc-8ebaccd86810",
   "metadata": {
    "jupyter": {
     "is_executing": true
    }
   },
   "source": [
    "figure = plt.figure(figsize=(8,8))\n",
    "cols, rows = 3,3\n",
    "for i in range(1, cols * rows + 1):\n",
    "    samples_idx = torch.randint(len(training_data), size=(1,)).item()\n",
    "\n",
    "    # training_data은 img (3D tensor), label (scalar tensor) 출력\n",
    "    img, label = training_data[samples_idx]\n",
    "\n",
    "    figure.add_subplot(rows, cols, i)\n",
    "\n",
    "    # label_map으로부터 출력된 (integer)로 변환된 labe을 원래의 string으로 된 label로 바꾸는것.\n",
    "    plt.title(labels_map[label])\n",
    "\n",
    "    plt.axis(\"off\")\n",
    "\n",
    "    # ToTensor은 PIL image (Height, Width, Channel)을 (Channel, Height, Width)로 바꾼다\n",
    "    # 따라서 (Channel, Height, Width)로 된 tensor을 다시 (Heightm Widthm Channel)로 바꿔줘야함\n",
    "    plt.imshow(img.permute(1,2,0))\n",
    "plt.show()"
   ],
   "outputs": [],
   "execution_count": null
  },
  {
   "cell_type": "code",
   "id": "d25e40df-bf50-4f61-b55b-1aa88e401d50",
   "metadata": {
    "jupyter": {
     "is_executing": true
    }
   },
   "source": [
    "from PIL import Image"
   ],
   "outputs": [],
   "execution_count": null
  },
  {
   "cell_type": "code",
   "id": "940f726b-efef-4ae0-85f6-e49ebca81cd7",
   "metadata": {
    "jupyter": {
     "is_executing": true
    }
   },
   "source": [
    "img, label = training_data[2]  # 첫 번째 이미지와 레이블 가져오기\n",
    "plt.imshow(img.permute(1, 2, 0))\n",
    "plt.title(labels_map[label])\n",
    "plt.show()"
   ],
   "outputs": [],
   "execution_count": null
  },
  {
   "cell_type": "code",
   "id": "dc46ce63-07dd-459c-ade7-774aa383b9d6",
   "metadata": {
    "jupyter": {
     "is_executing": true
    }
   },
   "source": [
    "img = Image.open(\"./cat_image.jpeg\")"
   ],
   "outputs": [],
   "execution_count": null
  },
  {
   "cell_type": "code",
   "id": "e3dbcacd-30d0-4455-b28b-a09161a2b1e6",
   "metadata": {
    "jupyter": {
     "is_executing": true
    }
   },
   "source": [
    "img"
   ],
   "outputs": [],
   "execution_count": null
  },
  {
   "cell_type": "code",
   "id": "99c79b67-e4a4-4383-9410-6c4be7c17462",
   "metadata": {
    "jupyter": {
     "is_executing": true
    }
   },
   "source": [
    "os.getcwd()"
   ],
   "outputs": [],
   "execution_count": null
  },
  {
   "cell_type": "code",
   "execution_count": null,
   "id": "1b754365-8f1f-4619-926b-36f11f0fc4fa",
   "metadata": {},
   "outputs": [],
   "source": []
  }
 ],
 "metadata": {
  "kernelspec": {
   "display_name": "Python 3 (ipykernel)",
   "language": "python",
   "name": "python3"
  },
  "language_info": {
   "codemirror_mode": {
    "name": "ipython",
    "version": 3
   },
   "file_extension": ".py",
   "mimetype": "text/x-python",
   "name": "python",
   "nbconvert_exporter": "python",
   "pygments_lexer": "ipython3",
   "version": "3.9.0"
  }
 },
 "nbformat": 4,
 "nbformat_minor": 5
}
