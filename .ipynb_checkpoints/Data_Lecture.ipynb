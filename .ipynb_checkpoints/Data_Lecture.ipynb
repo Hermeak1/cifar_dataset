{
 "cells": [
  {
   "cell_type": "code",
   "execution_count": 1,
   "metadata": {
    "collapsed": true
   },
   "outputs": [],
   "source": [
    "import numpy as np\n",
    "import torch"
   ]
  },
  {
   "cell_type": "code",
   "execution_count": 2,
   "outputs": [
    {
     "data": {
      "text/plain": "'\\nfrom torch.utils.data import Dataset\\n\\nclass CustomDataset(Dataset):\\n    def __init__(self):\\n        # 데이터셋의 전처리를 수행하는부분 예를들어 csv파일을 읽어오거나 어느 경로에 데이터셋들이 있는지 등 맨 처음에 수행되어야 하는 전처리를 수행하는 함수\\n    def __len__(self):\\n        # 데이터셋의 길이(즉, 총 샘플의 개수를 명시하는 부분)\\n    def __getitem__(self, item):\\n        # 데이터셋에서 특정 1개의 샘플을 가져오는부분 / 하나씩 하나씩 가져온다\\n        # 참고로 item은 index\\n\\n'"
     },
     "execution_count": 2,
     "metadata": {},
     "output_type": "execute_result"
    }
   ],
   "source": [
    "'''\n",
    "from torch.utils.data import Dataset\n",
    "\n",
    "class CustomDataset(Dataset):\n",
    "    def __init__(self):\n",
    "        # 데이터셋의 전처리를 수행하는부분 예를들어 csv파일을 읽어오거나 어느 경로에 데이터셋들이 있는지 등 맨 처음에 수행되어야 하는 전처리를 수행하는 함수\n",
    "    def __len__(self):\n",
    "        # 데이터셋의 길이(즉, 총 샘플의 개수를 명시하는 부분)\n",
    "    def __getitem__(self, item):\n",
    "        # 데이터셋에서 특정 1개의 샘플을 가져오는부분 / 하나씩 하나씩 가져온다\n",
    "        # 참고로 item은 index\n",
    "\n",
    "'''\n"
   ],
   "metadata": {
    "collapsed": false
   }
  },
  {
   "cell_type": "code",
   "execution_count": null,
   "outputs": [],
   "source": [],
   "metadata": {
    "collapsed": false
   }
  }
 ],
 "metadata": {
  "kernelspec": {
   "display_name": "Python 3",
   "language": "python",
   "name": "python3"
  },
  "language_info": {
   "codemirror_mode": {
    "name": "ipython",
    "version": 2
   },
   "file_extension": ".py",
   "mimetype": "text/x-python",
   "name": "python",
   "nbconvert_exporter": "python",
   "pygments_lexer": "ipython2",
   "version": "2.7.6"
  }
 },
 "nbformat": 4,
 "nbformat_minor": 0
}
